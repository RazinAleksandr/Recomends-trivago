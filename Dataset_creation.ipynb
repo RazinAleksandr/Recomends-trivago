{
  "nbformat": 4,
  "nbformat_minor": 0,
  "metadata": {
    "colab": {
      "provenance": [],
      "collapsed_sections": []
    },
    "kernelspec": {
      "name": "python3",
      "display_name": "Python 3"
    },
    "language_info": {
      "name": "python"
    }
  },
  "cells": [
    {
      "cell_type": "code",
      "source": [
        "!pip install wget"
      ],
      "metadata": {
        "id": "h8hkdtckMFGP"
      },
      "execution_count": null,
      "outputs": []
    },
    {
      "cell_type": "code",
      "execution_count": null,
      "metadata": {
        "id": "jIDP5OtzLsLT"
      },
      "outputs": [],
      "source": [
        "#import wget\n",
        "import os\n",
        "import matplotlib.pyplot as plt\n",
        "import missingno as msno\n",
        "import pandas as pd\n",
        "import numpy as np"
      ]
    },
    {
      "cell_type": "code",
      "source": [
        "os.chdir('/content/drive/MyDrive/Colab_Notebooks/RecSys')"
      ],
      "metadata": {
        "id": "mJgO5ujBMFpF"
      },
      "execution_count": null,
      "outputs": []
    },
    {
      "cell_type": "code",
      "source": [
        "#wget.download('https://recsys2019data.trivago.com/train.csv')"
      ],
      "metadata": {
        "id": "FtUt1KqxMH0Z"
      },
      "execution_count": null,
      "outputs": []
    },
    {
      "cell_type": "code",
      "source": [
        "df = pd.read_csv('data/train.csv')"
      ],
      "metadata": {
        "id": "54Rqt8FPMKDn"
      },
      "execution_count": null,
      "outputs": []
    },
    {
      "cell_type": "code",
      "source": [
        "df.head(15)"
      ],
      "metadata": {
        "colab": {
          "base_uri": "https://localhost:8080/",
          "height": 844
        },
        "id": "VYetPZo6MMdp",
        "outputId": "a1921f51-7c83-4ed6-a91e-6b09d0054bc4"
      },
      "execution_count": null,
      "outputs": [
        {
          "output_type": "execute_result",
          "data": {
            "text/plain": [
              "         user_id     session_id   timestamp  step             action_type  \\\n",
              "0   00RL8Z82B2Z1  aff3928535f48  1541037460     1          search for poi   \n",
              "1   00RL8Z82B2Z1  aff3928535f48  1541037522     2  interaction item image   \n",
              "2   00RL8Z82B2Z1  aff3928535f48  1541037522     3  interaction item image   \n",
              "3   00RL8Z82B2Z1  aff3928535f48  1541037532     4  interaction item image   \n",
              "4   00RL8Z82B2Z1  aff3928535f48  1541037532     5  interaction item image   \n",
              "5   00RL8Z82B2Z1  aff3928535f48  1541037532     6  interaction item image   \n",
              "6   00RL8Z82B2Z1  aff3928535f48  1541037532     7  interaction item image   \n",
              "7   00RL8Z82B2Z1  aff3928535f48  1541037532     8  interaction item image   \n",
              "8   00RL8Z82B2Z1  aff3928535f48  1541037542     9  interaction item image   \n",
              "9   00RL8Z82B2Z1  aff3928535f48  1541037542    10  interaction item image   \n",
              "10  00RL8Z82B2Z1  aff3928535f48  1541037542    11  interaction item image   \n",
              "11  00RL8Z82B2Z1  aff3928535f48  1541037542    12  interaction item image   \n",
              "12  00RL8Z82B2Z1  aff3928535f48  1541037542    13  interaction item image   \n",
              "13  00RL8Z82B2Z1  aff3928535f48  1541037543    14           clickout item   \n",
              "14  00RL8Z82B2Z1  aff3928535f48  1541038469    15          search for poi   \n",
              "\n",
              "      reference platform               city  device current_filters  \\\n",
              "0       Newtown       AU  Sydney, Australia  mobile             NaN   \n",
              "1        666856       AU  Sydney, Australia  mobile             NaN   \n",
              "2        666856       AU  Sydney, Australia  mobile             NaN   \n",
              "3        666856       AU  Sydney, Australia  mobile             NaN   \n",
              "4        109038       AU  Sydney, Australia  mobile             NaN   \n",
              "5        666856       AU  Sydney, Australia  mobile             NaN   \n",
              "6        109038       AU  Sydney, Australia  mobile             NaN   \n",
              "7        666856       AU  Sydney, Australia  mobile             NaN   \n",
              "8        109038       AU  Sydney, Australia  mobile             NaN   \n",
              "9        109038       AU  Sydney, Australia  mobile             NaN   \n",
              "10       109038       AU  Sydney, Australia  mobile             NaN   \n",
              "11       109038       AU  Sydney, Australia  mobile             NaN   \n",
              "12       109038       AU  Sydney, Australia  mobile             NaN   \n",
              "13       109038       AU  Sydney, Australia  mobile             NaN   \n",
              "14  Surry Hills       AU  Sydney, Australia  mobile             NaN   \n",
              "\n",
              "                                          impressions  \\\n",
              "0                                                 NaN   \n",
              "1                                                 NaN   \n",
              "2                                                 NaN   \n",
              "3                                                 NaN   \n",
              "4                                                 NaN   \n",
              "5                                                 NaN   \n",
              "6                                                 NaN   \n",
              "7                                                 NaN   \n",
              "8                                                 NaN   \n",
              "9                                                 NaN   \n",
              "10                                                NaN   \n",
              "11                                                NaN   \n",
              "12                                                NaN   \n",
              "13  3400638|1253714|3367857|5100540|1088584|666916...   \n",
              "14                                                NaN   \n",
              "\n",
              "                                               prices  \n",
              "0                                                 NaN  \n",
              "1                                                 NaN  \n",
              "2                                                 NaN  \n",
              "3                                                 NaN  \n",
              "4                                                 NaN  \n",
              "5                                                 NaN  \n",
              "6                                                 NaN  \n",
              "7                                                 NaN  \n",
              "8                                                 NaN  \n",
              "9                                                 NaN  \n",
              "10                                                NaN  \n",
              "11                                                NaN  \n",
              "12                                                NaN  \n",
              "13  95|66|501|112|95|100|101|72|82|56|56|143|70|25...  \n",
              "14                                                NaN  "
            ],
            "text/html": [
              "\n",
              "  <div id=\"df-cddcedef-e92e-4fd0-9b13-3d0a6c37976b\">\n",
              "    <div class=\"colab-df-container\">\n",
              "      <div>\n",
              "<style scoped>\n",
              "    .dataframe tbody tr th:only-of-type {\n",
              "        vertical-align: middle;\n",
              "    }\n",
              "\n",
              "    .dataframe tbody tr th {\n",
              "        vertical-align: top;\n",
              "    }\n",
              "\n",
              "    .dataframe thead th {\n",
              "        text-align: right;\n",
              "    }\n",
              "</style>\n",
              "<table border=\"1\" class=\"dataframe\">\n",
              "  <thead>\n",
              "    <tr style=\"text-align: right;\">\n",
              "      <th></th>\n",
              "      <th>user_id</th>\n",
              "      <th>session_id</th>\n",
              "      <th>timestamp</th>\n",
              "      <th>step</th>\n",
              "      <th>action_type</th>\n",
              "      <th>reference</th>\n",
              "      <th>platform</th>\n",
              "      <th>city</th>\n",
              "      <th>device</th>\n",
              "      <th>current_filters</th>\n",
              "      <th>impressions</th>\n",
              "      <th>prices</th>\n",
              "    </tr>\n",
              "  </thead>\n",
              "  <tbody>\n",
              "    <tr>\n",
              "      <th>0</th>\n",
              "      <td>00RL8Z82B2Z1</td>\n",
              "      <td>aff3928535f48</td>\n",
              "      <td>1541037460</td>\n",
              "      <td>1</td>\n",
              "      <td>search for poi</td>\n",
              "      <td>Newtown</td>\n",
              "      <td>AU</td>\n",
              "      <td>Sydney, Australia</td>\n",
              "      <td>mobile</td>\n",
              "      <td>NaN</td>\n",
              "      <td>NaN</td>\n",
              "      <td>NaN</td>\n",
              "    </tr>\n",
              "    <tr>\n",
              "      <th>1</th>\n",
              "      <td>00RL8Z82B2Z1</td>\n",
              "      <td>aff3928535f48</td>\n",
              "      <td>1541037522</td>\n",
              "      <td>2</td>\n",
              "      <td>interaction item image</td>\n",
              "      <td>666856</td>\n",
              "      <td>AU</td>\n",
              "      <td>Sydney, Australia</td>\n",
              "      <td>mobile</td>\n",
              "      <td>NaN</td>\n",
              "      <td>NaN</td>\n",
              "      <td>NaN</td>\n",
              "    </tr>\n",
              "    <tr>\n",
              "      <th>2</th>\n",
              "      <td>00RL8Z82B2Z1</td>\n",
              "      <td>aff3928535f48</td>\n",
              "      <td>1541037522</td>\n",
              "      <td>3</td>\n",
              "      <td>interaction item image</td>\n",
              "      <td>666856</td>\n",
              "      <td>AU</td>\n",
              "      <td>Sydney, Australia</td>\n",
              "      <td>mobile</td>\n",
              "      <td>NaN</td>\n",
              "      <td>NaN</td>\n",
              "      <td>NaN</td>\n",
              "    </tr>\n",
              "    <tr>\n",
              "      <th>3</th>\n",
              "      <td>00RL8Z82B2Z1</td>\n",
              "      <td>aff3928535f48</td>\n",
              "      <td>1541037532</td>\n",
              "      <td>4</td>\n",
              "      <td>interaction item image</td>\n",
              "      <td>666856</td>\n",
              "      <td>AU</td>\n",
              "      <td>Sydney, Australia</td>\n",
              "      <td>mobile</td>\n",
              "      <td>NaN</td>\n",
              "      <td>NaN</td>\n",
              "      <td>NaN</td>\n",
              "    </tr>\n",
              "    <tr>\n",
              "      <th>4</th>\n",
              "      <td>00RL8Z82B2Z1</td>\n",
              "      <td>aff3928535f48</td>\n",
              "      <td>1541037532</td>\n",
              "      <td>5</td>\n",
              "      <td>interaction item image</td>\n",
              "      <td>109038</td>\n",
              "      <td>AU</td>\n",
              "      <td>Sydney, Australia</td>\n",
              "      <td>mobile</td>\n",
              "      <td>NaN</td>\n",
              "      <td>NaN</td>\n",
              "      <td>NaN</td>\n",
              "    </tr>\n",
              "    <tr>\n",
              "      <th>5</th>\n",
              "      <td>00RL8Z82B2Z1</td>\n",
              "      <td>aff3928535f48</td>\n",
              "      <td>1541037532</td>\n",
              "      <td>6</td>\n",
              "      <td>interaction item image</td>\n",
              "      <td>666856</td>\n",
              "      <td>AU</td>\n",
              "      <td>Sydney, Australia</td>\n",
              "      <td>mobile</td>\n",
              "      <td>NaN</td>\n",
              "      <td>NaN</td>\n",
              "      <td>NaN</td>\n",
              "    </tr>\n",
              "    <tr>\n",
              "      <th>6</th>\n",
              "      <td>00RL8Z82B2Z1</td>\n",
              "      <td>aff3928535f48</td>\n",
              "      <td>1541037532</td>\n",
              "      <td>7</td>\n",
              "      <td>interaction item image</td>\n",
              "      <td>109038</td>\n",
              "      <td>AU</td>\n",
              "      <td>Sydney, Australia</td>\n",
              "      <td>mobile</td>\n",
              "      <td>NaN</td>\n",
              "      <td>NaN</td>\n",
              "      <td>NaN</td>\n",
              "    </tr>\n",
              "    <tr>\n",
              "      <th>7</th>\n",
              "      <td>00RL8Z82B2Z1</td>\n",
              "      <td>aff3928535f48</td>\n",
              "      <td>1541037532</td>\n",
              "      <td>8</td>\n",
              "      <td>interaction item image</td>\n",
              "      <td>666856</td>\n",
              "      <td>AU</td>\n",
              "      <td>Sydney, Australia</td>\n",
              "      <td>mobile</td>\n",
              "      <td>NaN</td>\n",
              "      <td>NaN</td>\n",
              "      <td>NaN</td>\n",
              "    </tr>\n",
              "    <tr>\n",
              "      <th>8</th>\n",
              "      <td>00RL8Z82B2Z1</td>\n",
              "      <td>aff3928535f48</td>\n",
              "      <td>1541037542</td>\n",
              "      <td>9</td>\n",
              "      <td>interaction item image</td>\n",
              "      <td>109038</td>\n",
              "      <td>AU</td>\n",
              "      <td>Sydney, Australia</td>\n",
              "      <td>mobile</td>\n",
              "      <td>NaN</td>\n",
              "      <td>NaN</td>\n",
              "      <td>NaN</td>\n",
              "    </tr>\n",
              "    <tr>\n",
              "      <th>9</th>\n",
              "      <td>00RL8Z82B2Z1</td>\n",
              "      <td>aff3928535f48</td>\n",
              "      <td>1541037542</td>\n",
              "      <td>10</td>\n",
              "      <td>interaction item image</td>\n",
              "      <td>109038</td>\n",
              "      <td>AU</td>\n",
              "      <td>Sydney, Australia</td>\n",
              "      <td>mobile</td>\n",
              "      <td>NaN</td>\n",
              "      <td>NaN</td>\n",
              "      <td>NaN</td>\n",
              "    </tr>\n",
              "    <tr>\n",
              "      <th>10</th>\n",
              "      <td>00RL8Z82B2Z1</td>\n",
              "      <td>aff3928535f48</td>\n",
              "      <td>1541037542</td>\n",
              "      <td>11</td>\n",
              "      <td>interaction item image</td>\n",
              "      <td>109038</td>\n",
              "      <td>AU</td>\n",
              "      <td>Sydney, Australia</td>\n",
              "      <td>mobile</td>\n",
              "      <td>NaN</td>\n",
              "      <td>NaN</td>\n",
              "      <td>NaN</td>\n",
              "    </tr>\n",
              "    <tr>\n",
              "      <th>11</th>\n",
              "      <td>00RL8Z82B2Z1</td>\n",
              "      <td>aff3928535f48</td>\n",
              "      <td>1541037542</td>\n",
              "      <td>12</td>\n",
              "      <td>interaction item image</td>\n",
              "      <td>109038</td>\n",
              "      <td>AU</td>\n",
              "      <td>Sydney, Australia</td>\n",
              "      <td>mobile</td>\n",
              "      <td>NaN</td>\n",
              "      <td>NaN</td>\n",
              "      <td>NaN</td>\n",
              "    </tr>\n",
              "    <tr>\n",
              "      <th>12</th>\n",
              "      <td>00RL8Z82B2Z1</td>\n",
              "      <td>aff3928535f48</td>\n",
              "      <td>1541037542</td>\n",
              "      <td>13</td>\n",
              "      <td>interaction item image</td>\n",
              "      <td>109038</td>\n",
              "      <td>AU</td>\n",
              "      <td>Sydney, Australia</td>\n",
              "      <td>mobile</td>\n",
              "      <td>NaN</td>\n",
              "      <td>NaN</td>\n",
              "      <td>NaN</td>\n",
              "    </tr>\n",
              "    <tr>\n",
              "      <th>13</th>\n",
              "      <td>00RL8Z82B2Z1</td>\n",
              "      <td>aff3928535f48</td>\n",
              "      <td>1541037543</td>\n",
              "      <td>14</td>\n",
              "      <td>clickout item</td>\n",
              "      <td>109038</td>\n",
              "      <td>AU</td>\n",
              "      <td>Sydney, Australia</td>\n",
              "      <td>mobile</td>\n",
              "      <td>NaN</td>\n",
              "      <td>3400638|1253714|3367857|5100540|1088584|666916...</td>\n",
              "      <td>95|66|501|112|95|100|101|72|82|56|56|143|70|25...</td>\n",
              "    </tr>\n",
              "    <tr>\n",
              "      <th>14</th>\n",
              "      <td>00RL8Z82B2Z1</td>\n",
              "      <td>aff3928535f48</td>\n",
              "      <td>1541038469</td>\n",
              "      <td>15</td>\n",
              "      <td>search for poi</td>\n",
              "      <td>Surry Hills</td>\n",
              "      <td>AU</td>\n",
              "      <td>Sydney, Australia</td>\n",
              "      <td>mobile</td>\n",
              "      <td>NaN</td>\n",
              "      <td>NaN</td>\n",
              "      <td>NaN</td>\n",
              "    </tr>\n",
              "  </tbody>\n",
              "</table>\n",
              "</div>\n",
              "      <button class=\"colab-df-convert\" onclick=\"convertToInteractive('df-cddcedef-e92e-4fd0-9b13-3d0a6c37976b')\"\n",
              "              title=\"Convert this dataframe to an interactive table.\"\n",
              "              style=\"display:none;\">\n",
              "        \n",
              "  <svg xmlns=\"http://www.w3.org/2000/svg\" height=\"24px\"viewBox=\"0 0 24 24\"\n",
              "       width=\"24px\">\n",
              "    <path d=\"M0 0h24v24H0V0z\" fill=\"none\"/>\n",
              "    <path d=\"M18.56 5.44l.94 2.06.94-2.06 2.06-.94-2.06-.94-.94-2.06-.94 2.06-2.06.94zm-11 1L8.5 8.5l.94-2.06 2.06-.94-2.06-.94L8.5 2.5l-.94 2.06-2.06.94zm10 10l.94 2.06.94-2.06 2.06-.94-2.06-.94-.94-2.06-.94 2.06-2.06.94z\"/><path d=\"M17.41 7.96l-1.37-1.37c-.4-.4-.92-.59-1.43-.59-.52 0-1.04.2-1.43.59L10.3 9.45l-7.72 7.72c-.78.78-.78 2.05 0 2.83L4 21.41c.39.39.9.59 1.41.59.51 0 1.02-.2 1.41-.59l7.78-7.78 2.81-2.81c.8-.78.8-2.07 0-2.86zM5.41 20L4 18.59l7.72-7.72 1.47 1.35L5.41 20z\"/>\n",
              "  </svg>\n",
              "      </button>\n",
              "      \n",
              "  <style>\n",
              "    .colab-df-container {\n",
              "      display:flex;\n",
              "      flex-wrap:wrap;\n",
              "      gap: 12px;\n",
              "    }\n",
              "\n",
              "    .colab-df-convert {\n",
              "      background-color: #E8F0FE;\n",
              "      border: none;\n",
              "      border-radius: 50%;\n",
              "      cursor: pointer;\n",
              "      display: none;\n",
              "      fill: #1967D2;\n",
              "      height: 32px;\n",
              "      padding: 0 0 0 0;\n",
              "      width: 32px;\n",
              "    }\n",
              "\n",
              "    .colab-df-convert:hover {\n",
              "      background-color: #E2EBFA;\n",
              "      box-shadow: 0px 1px 2px rgba(60, 64, 67, 0.3), 0px 1px 3px 1px rgba(60, 64, 67, 0.15);\n",
              "      fill: #174EA6;\n",
              "    }\n",
              "\n",
              "    [theme=dark] .colab-df-convert {\n",
              "      background-color: #3B4455;\n",
              "      fill: #D2E3FC;\n",
              "    }\n",
              "\n",
              "    [theme=dark] .colab-df-convert:hover {\n",
              "      background-color: #434B5C;\n",
              "      box-shadow: 0px 1px 3px 1px rgba(0, 0, 0, 0.15);\n",
              "      filter: drop-shadow(0px 1px 2px rgba(0, 0, 0, 0.3));\n",
              "      fill: #FFFFFF;\n",
              "    }\n",
              "  </style>\n",
              "\n",
              "      <script>\n",
              "        const buttonEl =\n",
              "          document.querySelector('#df-cddcedef-e92e-4fd0-9b13-3d0a6c37976b button.colab-df-convert');\n",
              "        buttonEl.style.display =\n",
              "          google.colab.kernel.accessAllowed ? 'block' : 'none';\n",
              "\n",
              "        async function convertToInteractive(key) {\n",
              "          const element = document.querySelector('#df-cddcedef-e92e-4fd0-9b13-3d0a6c37976b');\n",
              "          const dataTable =\n",
              "            await google.colab.kernel.invokeFunction('convertToInteractive',\n",
              "                                                     [key], {});\n",
              "          if (!dataTable) return;\n",
              "\n",
              "          const docLinkHtml = 'Like what you see? Visit the ' +\n",
              "            '<a target=\"_blank\" href=https://colab.research.google.com/notebooks/data_table.ipynb>data table notebook</a>'\n",
              "            + ' to learn more about interactive tables.';\n",
              "          element.innerHTML = '';\n",
              "          dataTable['output_type'] = 'display_data';\n",
              "          await google.colab.output.renderOutput(dataTable, element);\n",
              "          const docLink = document.createElement('div');\n",
              "          docLink.innerHTML = docLinkHtml;\n",
              "          element.appendChild(docLink);\n",
              "        }\n",
              "      </script>\n",
              "    </div>\n",
              "  </div>\n",
              "  "
            ]
          },
          "metadata": {},
          "execution_count": 5
        }
      ]
    },
    {
      "cell_type": "code",
      "source": [
        "salary = pd.read_csv('data/salaries_with_domains.csv', index_col=0)"
      ],
      "metadata": {
        "id": "bVntKogQMPZa"
      },
      "execution_count": null,
      "outputs": []
    },
    {
      "cell_type": "code",
      "source": [
        "salary.set_index('Data Source', inplace = True)\n",
        "salary = salary.to_dict()['2019.0']\n",
        "df['salaries'] = df.platform\n",
        "df['salaries'] = df.salaries.map(salary)\n",
        "list_nf = df[df.salaries.isna()].platform.value_counts().index.to_list()"
      ],
      "metadata": {
        "id": "o8EKF2YCMRK6"
      },
      "execution_count": null,
      "outputs": []
    },
    {
      "cell_type": "code",
      "source": [
        "df['salaries'].plot.hist()"
      ],
      "metadata": {
        "colab": {
          "base_uri": "https://localhost:8080/",
          "height": 293
        },
        "id": "70HPAByRMguc",
        "outputId": "af4604c1-8645-40a2-aab8-503212a24a4e"
      },
      "execution_count": null,
      "outputs": [
        {
          "output_type": "execute_result",
          "data": {
            "text/plain": [
              "<matplotlib.axes._subplots.AxesSubplot at 0x7fb2a6669a50>"
            ]
          },
          "metadata": {},
          "execution_count": 8
        },
        {
          "output_type": "display_data",
          "data": {
            "text/plain": [
              "<Figure size 432x288 with 1 Axes>"
            ],
            "image/png": "[encoded data removed]"
          },
          "metadata": {
            "needs_background": "light"
          }
        }
      ]
    },
    {
      "cell_type": "code",
      "source": [
        "check_ = df.salaries.fillna(df.salaries.median())\n",
        "df['salary'] = check_"
      ],
      "metadata": {
        "id": "q0YuqGCvMjgL"
      },
      "execution_count": null,
      "outputs": []
    },
    {
      "cell_type": "code",
      "source": [
        "fig = plt.figure(figsize=(12,5))\n",
        "plt.hist(df.action_type, bins=20)\n",
        "plt.xticks(rotation = 45)\n",
        "plt.show()"
      ],
      "metadata": {
        "colab": {
          "base_uri": "https://localhost:8080/",
          "height": 408
        },
        "id": "FlFZ0NWEMuNT",
        "outputId": "9aff9452-37cd-4999-8116-012bf7fcd2cd"
      },
      "execution_count": null,
      "outputs": [
        {
          "output_type": "display_data",
          "data": {
            "text/plain": [
              "<Figure size 864x360 with 1 Axes>"
            ],
            "image/png": "[encoded data removed]"
          },
          "metadata": {
            "needs_background": "light"
          }
        }
      ]
    },
    {
      "cell_type": "code",
      "source": [
        "df.isnull().sum()"
      ],
      "metadata": {
        "colab": {
          "base_uri": "https://localhost:8080/"
        },
        "id": "wip-OoqnMy63",
        "outputId": "9b036432-037b-4cf1-aaaf-66a0786c0cfe"
      },
      "execution_count": null,
      "outputs": [
        {
          "output_type": "execute_result",
          "data": {
            "text/plain": [
              "user_id                   0\n",
              "session_id                0\n",
              "timestamp                 0\n",
              "step                      0\n",
              "action_type               0\n",
              "reference                 0\n",
              "platform                  0\n",
              "city                      0\n",
              "device                    0\n",
              "current_filters    14779880\n",
              "impressions        14346406\n",
              "prices             14346406\n",
              "salaries            3893385\n",
              "salary                    0\n",
              "dtype: int64"
            ]
          },
          "metadata": {},
          "execution_count": 11
        }
      ]
    },
    {
      "cell_type": "code",
      "source": [
        "msno.matrix(df.loc[df['action_type'] == 'clickout item'], figsize=(6,6)) "
      ],
      "metadata": {
        "colab": {
          "base_uri": "https://localhost:8080/",
          "height": 483
        },
        "id": "lQeSRs9LM03z",
        "outputId": "b40251c2-d7fc-401d-d5c6-0351369d8162"
      },
      "execution_count": null,
      "outputs": [
        {
          "output_type": "execute_result",
          "data": {
            "text/plain": [
              "<matplotlib.axes._subplots.AxesSubplot at 0x7fb291b81090>"
            ]
          },
          "metadata": {},
          "execution_count": 12
        },
        {
          "output_type": "display_data",
          "data": {
            "text/plain": [
              "<Figure size 432x432 with 2 Axes>"
            ],
            "image/png": "[encoded data removed]"
          },
          "metadata": {
            "needs_background": "light"
          }
        }
      ]
    },
    {
      "cell_type": "markdown",
      "source": [
        "Feature creation"
      ],
      "metadata": {
        "id": "Abj0PiTNM5ew"
      }
    },
    {
      "cell_type": "code",
      "source": [
        "def checkpoint(df, save_as):\n",
        "        df.to_csv(save_as, mode = 'a', header = False)"
      ],
      "metadata": {
        "id": "8LbsX79LM7ca"
      },
      "execution_count": null,
      "outputs": []
    },
    {
      "cell_type": "code",
      "source": [
        "def create_features(df, submission_mode=False, save_as = 'all_features.csv'):\n",
        "  # Строки с типом действия - клик'\n",
        "  clickout_rows_df = df[df['action_type'] == 'clickout item']\n",
        "\n",
        "\n",
        "  if len(clickout_rows_df) > 0:\n",
        "    # Словарь признаков для прогонки через нейронку\n",
        "    features = {\n",
        "            # Признаки по текущему imr в итерации\n",
        "            'imp_appeared': [],           # количество появлений текущего impr\n",
        "            \n",
        "            'time_passed_imp_app': [],    # время прошедшее после последнего \n",
        "                                          # появления текущего impr в списке \n",
        "                                          # reference всей сессии\n",
        "            \n",
        "            'filter_changed' : [],        # количество измененных фильтров\n",
        "            \n",
        "            'price_per_salary' : [],      # отношение цены текущего impr к з/п\n",
        "            \n",
        "            's_last_imp_app': [],         # количество проделанных шагов \n",
        "                                          # (действий) после последнего появления \n",
        "                                          # текущего impr в reference сессии\n",
        "            \n",
        "            'last_actions_part_impr': [], # тип действия во время последнего \n",
        "                                          # появления текущего impr в \n",
        "                                          # reference сессии\n",
        "            \n",
        "            'imp_pos': [],                # позиция текущего impr в \n",
        "                                          # списке impressions\n",
        "            \n",
        "            'label': [],                  # target label reference последнего \n",
        "                                          # клика, который необходимо предсказать\n",
        "            \n",
        "            'price': [],                  # цена\n",
        "            \n",
        "            'sorted_price_pos': [],       # позиция цены в отсортированном \n",
        "                                          # списке цен для последнего клика\n",
        "            \n",
        "            # Постоянные признаки по сессии юзера\n",
        "            'time_session': [],           # длина сессии\n",
        "            \n",
        "            's_s': [],                    # количество шагов в сессии\n",
        "            \n",
        "            'last_act_time': [],          # время после последнего клика в сессии\n",
        "            \n",
        "            'reference_last_act': [],     # позиция последнего reference в сессии \n",
        "                                          # в списке impressions последнего \n",
        "                                          # клика в сессии\n",
        "\n",
        "            'index': []                   # индекс последнего клика \n",
        "                                          # в сессии в датафрейме\n",
        "                }\n",
        "        \n",
        "    clk = clickout_rows_df.tail(1) # переменная target клика в сессии\n",
        "    filter_changed = clk['current_filters'].nunique() # количество смены \n",
        "                                                      # фильтров за сессию\n",
        "\n",
        "    # обрезаем фрейм от начала сессии до последнего клика в сессии\n",
        "    df = df.loc[df.head(1).index.values[0]:clk.index.values[0] - 1]\n",
        "\n",
        "\n",
        "    if df.shape[0] > 0:\n",
        "      sess_time = clk['timestamp'].values[0] - df.loc[0, 'timestamp']\n",
        "      last_act_time = clk['timestamp'].values[0] - df.loc[-1, 'timestamp']\n",
        "            \n",
        "      # проверка последнего reference в сессии\n",
        "      if df.loc[-1, 'reference'].isdigit():\n",
        "        last_ref = int(df.loc[-1, 'reference'])\n",
        "      else:\n",
        "        last_ref = 0\n",
        "    else:\n",
        "      sess_time = -0.5\n",
        "      last_act_time = -0.5\n",
        "      last_ref = -0.5\n",
        "    session_steps = clk['step'].values[0]\n",
        "\n",
        "    # список impressions последнего клика в сессии\n",
        "    impr = list(map(int, clk['impressions'].values[0].split('|')))\n",
        "\n",
        "    # проверка есть ли последний reference сессии в списке impr последнего клика\n",
        "    if last_ref in impr:\n",
        "      reference_last_act = impr.index(last_ref)\n",
        "    else:\n",
        "      reference_last_act = -0.5\n",
        "\n",
        "    prices = list(map(int, clk['prices'].values[0].split('|')))\n",
        "    salary_ = clk['salary'].values[0]\n",
        "    sorted_prices = prices.copy()\n",
        "    sorted_prices.sort()\n",
        "\n",
        "    references = df['reference'].values\n",
        "\n",
        "        \n",
        "    for count, i in enumerate(impr):\n",
        "      indices = np.where(references == str(i))[0]  # список из индексов\n",
        "                              # каждый из которого указывает на положение текущего\n",
        "                              # impression (i) в списке всех reference сессии\n",
        "            \n",
        "      features['index'].append(clk.index[0])  # индекс последнего клика в сессии\n",
        "      features['imp_pos'].append(count + 1)  # позиция текущего impr (i)\n",
        "      features['price'].append(prices[count])  # цена текущего impr\n",
        "      features['price_per_salary'].append(prices[count] / salary_)  # отношение \n",
        "                                                          # текущей цены к з/п\n",
        "      features['sorted_price_pos'].append(sorted_prices.index(prices[count])) #\\\n",
        "                                # индекс текущей цены в отсортированном списке\n",
        "\n",
        "      # Проверка, есть ли хотя бы одно появление текущего impr в reference сессии\n",
        "      if len(indices) > 0:\n",
        "        row_reference = df.head(indices[-1] + 1).tail(1)  # строка с последним появлением текущего impr в reference сессии\n",
        "        features['s_last_imp_app'].append(len(df) - indices[-1])  # количество шагов \n",
        "                            # после последнего появления текущего impr в списке references\n",
        "        features['time_passed_imp_app'].append(\n",
        "                    int(clk['timestamp'].values[0] - row_reference['timestamp'].values[0])) # время между\n",
        "                          # последним кликом в сессии и последним появлением текущего imr\n",
        "        features['last_actions_part_impr'].append(\n",
        "                    row_reference['action_type'].values[0])  # тип действия во \n",
        "                          # время последнего появления текущего impr в reference сессии \n",
        "      else:\n",
        "        features['s_last_imp_app'].append(\n",
        "                    -0.5) \n",
        "        features['time_passed_imp_app'].append(\n",
        "                    -0.5) \n",
        "        features['last_actions_part_impr'].append(\n",
        "                    'no_action') \n",
        "      features['imp_appeared'].append(len(indices)) # количество появлений \n",
        "            # текущего impr в списке всех reference сессии\n",
        "      features['time_session'].append(sess_time) # время длительности сессии\n",
        "      features['s_s'].append(session_steps) # количество шагов в сессии\n",
        "      features['last_act_time'].append(last_act_time) # время между \n",
        "                    # последним событием в сессии и последним кликом в сессии\n",
        "      features['reference_last_act'].append(reference_last_act) # позиция\n",
        "                    # последнего reference в сессии в списке impressions последнего клика\n",
        "      features['filter_changed'].append(filter_changed)  # смена фильтров\n",
        "      \n",
        "      # задаем таргетовую переменную для последнего клика, \n",
        "      # 1 - если текущий impr совпадает с reference, 0- если нет\n",
        "      if int(clk['reference'].values[0]) == i:\n",
        "        features['label'].append(1)\n",
        "      else:\n",
        "        features['label'].append(0)\n",
        "\n",
        "    # заполним нулями недостающие значения\n",
        "    num_miss = 25 - len(impr)\n",
        "    if num_miss > 0:\n",
        "      for k in features.keys():\n",
        "        if k == 'label':\n",
        "          features[k].extend(np.zeros(num_miss))\n",
        "        else:\n",
        "          features[k].extend(np.ones(num_miss) * -1)\n",
        "        \n",
        "    checkpoint(pd.DataFrame(features), save_as) # сохраним обработанную часть даты"
      ],
      "metadata": {
        "id": "calukEpgNBZH"
      },
      "execution_count": null,
      "outputs": []
    },
    {
      "cell_type": "code",
      "source": [
        "from tqdm.notebook import tqdm\n",
        "tqdm.pandas()\n",
        "df.groupby(['user_id', 'session_id']).progress_apply(create_features)"
      ],
      "metadata": {
        "id": "xJ86Pu9TNJkJ"
      },
      "execution_count": null,
      "outputs": []
    },
    {
      "cell_type": "markdown",
      "source": [
        "Some cosmetics procedures"
      ],
      "metadata": {
        "id": "ZmrvTf6_Nbr-"
      }
    },
    {
      "cell_type": "code",
      "source": [
        "data = pd.read_csv('all_features.csv')"
      ],
      "metadata": {
        "id": "6Nndbw0uNZxn"
      },
      "execution_count": null,
      "outputs": []
    },
    {
      "cell_type": "code",
      "source": [
        "features = ['idx',\n",
        "            'imp_appeared', \n",
        "            'time_passed_imp_app', \n",
        "            'filter_changed',\n",
        "            'price_per_salary',\n",
        "            's_last_imp_app', \n",
        "            'last_actions_part_impr', \n",
        "            'imp_pos':, \n",
        "            'label', \n",
        "            'price', \n",
        "            'sorted_price_pos',\n",
        "            'time_session', \n",
        "            's_s', \n",
        "            'last_act_time', \n",
        "            'reference_last_act',\n",
        "            'index'] "
      ],
      "metadata": {
        "id": "415JVaLONe6M"
      },
      "execution_count": null,
      "outputs": []
    },
    {
      "cell_type": "code",
      "source": [
        "row = [0,\n",
        " 0.0,\n",
        " -0.5,\n",
        " 1.0,\n",
        " 0.00619083641766382,\n",
        " -0.5,\n",
        " 'no_action',\n",
        " 1.0,\n",
        " 0.0,\n",
        " 47.0,\n",
        " 3.0,\n",
        " 472.0,\n",
        " 17.0,\n",
        " 69.0,\n",
        " -0.5,\n",
        " 8321598.0]"
      ],
      "metadata": {
        "id": "58F-iaPzNgo4"
      },
      "execution_count": null,
      "outputs": []
    },
    {
      "cell_type": "code",
      "source": [
        "data.loc[-1] = row\n",
        "data.index = data.index + 1\n",
        "data.sort_index(inplace=True) "
      ],
      "metadata": {
        "id": "BDP-xLpDNiF-"
      },
      "execution_count": null,
      "outputs": []
    },
    {
      "cell_type": "code",
      "source": [
        "data.columns = features"
      ],
      "metadata": {
        "id": "1-v6eA7oNkww"
      },
      "execution_count": null,
      "outputs": []
    },
    {
      "cell_type": "code",
      "source": [
        "data.to_csv('finished_data.csv')"
      ],
      "metadata": {
        "id": "Qk38v5yoNma3"
      },
      "execution_count": null,
      "outputs": []
    },
    {
      "cell_type": "markdown",
      "source": [
        "Dataset creation"
      ],
      "metadata": {
        "id": "_uRkDJoGNoNv"
      }
    },
    {
      "cell_type": "code",
      "source": [
        "from sklearn.preprocessing import MinMaxScaler\n",
        "from sklearn.utils import shuffle"
      ],
      "metadata": {
        "id": "aaqbCAFHNxhs"
      },
      "execution_count": null,
      "outputs": []
    },
    {
      "cell_type": "code",
      "source": [
        "df_features = pd.read_csv('finished_data.csv')"
      ],
      "metadata": {
        "id": "eJg2fwkgNpti"
      },
      "execution_count": null,
      "outputs": []
    },
    {
      "cell_type": "code",
      "source": [
        "df_features.drop(['Unnamed: 0'], axis=1, inplace=True)"
      ],
      "metadata": {
        "id": "GyI86nR_Nt8x"
      },
      "execution_count": null,
      "outputs": []
    },
    {
      "cell_type": "code",
      "source": [
        "df_features.head(25)"
      ],
      "metadata": {
        "id": "s608TxvvNvUP"
      },
      "execution_count": null,
      "outputs": []
    },
    {
      "cell_type": "code",
      "source": [
        "X, Y = df_features.iloc[:, [1, 2, 4, 5, 7, 9]], df_features.iloc[:, 8]"
      ],
      "metadata": {
        "id": "ILPrARF6N2Cq"
      },
      "execution_count": null,
      "outputs": []
    },
    {
      "cell_type": "code",
      "source": [
        "scaler = MinMaxScaler()"
      ],
      "metadata": {
        "id": "468-_fwIN2pH"
      },
      "execution_count": null,
      "outputs": []
    },
    {
      "cell_type": "code",
      "source": [
        "X_norm = scaler.fit_transform(X)\n",
        "Y_norm = Y.values"
      ],
      "metadata": {
        "id": "PcEgbBdgN5_P"
      },
      "execution_count": null,
      "outputs": []
    },
    {
      "cell_type": "code",
      "source": [
        "print('Data shuffling')\n",
        "X_norm_shuffled = []\n",
        "Y_norm_shuffled = []\n",
        "for i in tqdm(range(0, X_norm.shape[0], 25)):\n",
        "    x, y = shuffle(X_norm[i:i + 25], Y_norm[i:i + 25])\n",
        "    X_norm_shuffled.append(x)\n",
        "    Y_norm_shuffled.append(y)"
      ],
      "metadata": {
        "id": "VmEnYQzgN8OZ"
      },
      "execution_count": null,
      "outputs": []
    },
    {
      "cell_type": "code",
      "source": [
        "data_train = np.array(X_norm_shuffled)\n",
        "labels = np.array(Y_norm_shuffled)"
      ],
      "metadata": {
        "id": "5QQG6owuN9gg"
      },
      "execution_count": null,
      "outputs": []
    },
    {
      "cell_type": "code",
      "source": [
        "import pickle\n",
        "with open('data_train.pkl','wb') as f:\n",
        "  pickle.dump(data_train, f)\n",
        "with open('labels.pkl','wb') as f:\n",
        "  pickle.dump(labels, f)"
      ],
      "metadata": {
        "id": "24WUQXz-N_vR"
      },
      "execution_count": null,
      "outputs": []
    }
  ]
}
